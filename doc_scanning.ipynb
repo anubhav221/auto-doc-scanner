{
 "cells": [
  {
   "cell_type": "code",
   "execution_count": null,
   "metadata": {},
   "outputs": [],
   "source": [
    "import cv2\n",
    "import numpy as np"
   ]
  },
  {
   "cell_type": "code",
   "execution_count": 23,
   "metadata": {},
   "outputs": [],
   "source": [
    "video = cv2.VideoCapture(0)\n",
    "video.set(3,1000)      #3 is id for length \n",
    "video.set(4,1000)      #4 is id for breadth  \n",
    "video.set(10,200)     #10 is id for brightness\n",
    "\n",
    "address = \"http://192.168.137.206:8080/video\"\n",
    "video.open(address)\n",
    "\n",
    "def getcontour(img,img_dis):\n",
    "    contour,heirarchy = cv2.findContours(img,cv2.RETR_EXTERNAL,cv2.CHAIN_APPROX_NONE)\n",
    "    \n",
    "    for ctr in contour:\n",
    "        peri = cv2.arcLength(ctr,True)\n",
    "        approx = cv2.approxPolyDP(ctr,0.02*peri,True)\n",
    "        sides = len(approx)\n",
    "        area = cv2.contourArea(ctr)\n",
    "        if sides==4 and area>1000:\n",
    "            return approx\n",
    "        else:\n",
    "            pass\n",
    "count = 0\n",
    "\n",
    "while True:\n",
    "    \n",
    "    success , img_webcam = video.read()\n",
    "    img_grey = cv2.cvtColor(img_webcam,cv2.COLOR_BGR2GRAY)\n",
    "    img_blur = cv2.blur(img_grey,(3,3))\n",
    "    img_canny = cv2.Canny(img_blur,150,150)\n",
    "    \n",
    "    points = getcontour(img_canny,img_webcam)\n",
    "    points = np.array(points)\n",
    "    \n",
    "    \n",
    "    if points.shape == (4,1,2):\n",
    "        cv2.drawContours(img_webcam, points,-4,(100,0,200),20)\n",
    "        points = np.reshape(points,(4,2)) \n",
    "        sum_arr = np.sum(points,axis=1)  #to check order\n",
    "        diff_arr = np.diff(points,axis=1)\n",
    "        final_arr = [points[np.argmin(sum_arr)],points[np.argmin(diff_arr)],\n",
    "                     points[np.argmax(diff_arr)],points[np.argmax(sum_arr)]]\n",
    "        \n",
    "        width,height = 400,700\n",
    "        pts1 = np.float32(final_arr)\n",
    "        pts2 = np.float32([[0,0],[width,0],[0,height],[width,height]])\n",
    "\n",
    "        matrix = cv2.getPerspectiveTransform(pts1,pts2)\n",
    "        final_img = cv2.warpPerspective(img_webcam,matrix,(width,height))\n",
    "        count += 1\n",
    "        img_copy = final_img.copy()\n",
    "        \n",
    "    else:\n",
    "        if count == 0 :\n",
    "            final_img = np.ones((800,500,3))\n",
    "        else:\n",
    "            final_img = img_copy\n",
    "    \n",
    "    cv2.imshow(\"video\",img_webcam)\n",
    "    cv2.imshow(\"video \",final_img)\n",
    "    if cv2.waitKey(1) & 0xFF==ord('q'):\n",
    "        cv2.destroyAllWindows()\n",
    "        break"
   ]
  },
  {
   "cell_type": "code",
   "execution_count": null,
   "metadata": {},
   "outputs": [],
   "source": []
  }
 ],
 "metadata": {
  "kernelspec": {
   "display_name": "Python 3",
   "language": "python",
   "name": "python3"
  },
  "language_info": {
   "codemirror_mode": {
    "name": "ipython",
    "version": 3
   },
   "file_extension": ".py",
   "mimetype": "text/x-python",
   "name": "python",
   "nbconvert_exporter": "python",
   "pygments_lexer": "ipython3",
   "version": "3.7.3"
  }
 },
 "nbformat": 4,
 "nbformat_minor": 2
}
